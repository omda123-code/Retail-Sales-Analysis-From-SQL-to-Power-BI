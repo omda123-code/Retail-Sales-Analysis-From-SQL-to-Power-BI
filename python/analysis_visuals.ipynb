{
 "cells": [
  {
   "cell_type": "code",
   "execution_count": 20,
   "id": "81df2a27-d324-40f3-a4ea-77ae636fdb03",
   "metadata": {},
   "outputs": [],
   "source": []
  },
  {
   "cell_type": "code",
   "execution_count": 27,
   "id": "da98a082-8f85-47f2-898f-a315b84d0636",
   "metadata": {},
   "outputs": [
    {
     "data": {
      "text/plain": [
       "<Figure size 1200x600 with 0 Axes>"
      ]
     },
     "metadata": {},
     "output_type": "display_data"
    },
    {
     "data": {
      "text/plain": [
       "<Figure size 1200x600 with 0 Axes>"
      ]
     },
     "metadata": {},
     "output_type": "display_data"
    },
    {
     "data": {
      "text/plain": [
       "<Figure size 1200x600 with 0 Axes>"
      ]
     },
     "metadata": {},
     "output_type": "display_data"
    },
    {
     "data": {
      "text/plain": [
       "<Figure size 1200x600 with 0 Axes>"
      ]
     },
     "metadata": {},
     "output_type": "display_data"
    },
    {
     "data": {
      "text/plain": [
       "<Figure size 1200x600 with 0 Axes>"
      ]
     },
     "metadata": {},
     "output_type": "display_data"
    },
    {
     "data": {
      "text/plain": [
       "<Figure size 1200x600 with 0 Axes>"
      ]
     },
     "metadata": {},
     "output_type": "display_data"
    },
    {
     "data": {
      "text/plain": [
       "<Figure size 1200x600 with 0 Axes>"
      ]
     },
     "metadata": {},
     "output_type": "display_data"
    },
    {
     "data": {
      "text/plain": [
       "<Figure size 1200x600 with 0 Axes>"
      ]
     },
     "metadata": {},
     "output_type": "display_data"
    }
   ],
   "source": [
    "import pandas as pd\n",
    "import matplotlib.pyplot as plt\n",
    "import os\n",
    "\n",
    "# Ensure output folders exist\n",
    "os.makedirs(\"outputs/visuals\", exist_ok=True)\n",
    "\n",
    "# Define files, title, chart type\n",
    "files_and_visuals = [\n",
    "    (\"orders_by_city.csv\", \"Top Cities by Number of Orders\", \"bar\", \"City\", \"Total_Orders\"),\n",
    "    (\"category_sales.csv\", \"Most Sold Categories\", \"bar\", \"Category\", \"Total_Quantity\"),\n",
    "    (\"profit_by_sub.csv\", \"Highest Profit by Sub-Category\", \"bar\", \"Sub_Category\", \"Total_Profit\"),\n",
    "    (\"orders_by_month.csv\", \"Orders per Month\", \"line\", \"Month_of_Order_Date\", \"Total_Orders\"),\n",
    "    (\"top_customers.csv\", \"Top Customers by Spending\", \"bar\", \"CustomerName\", \"Total_Spend\"),\n",
    "    (\"unprofitable_sub-categories.csv\", \"Unprofitable or Low Profit Categories\", \"bar\", \"Sub_Category\", \"Total_Profit\"),\n",
    "    (\"revenue_by_state.csv\", \"Revenue by State\", \"bar\", \"State\", \"Total_Revenue\"),\n",
    "    ('most_ordered_sub-categories.csv','Top Products by Orders','bar','Sub_Category','Total_Quantity')\n",
    "]\n",
    "\n",
    "# Generate visuals\n",
    "for filename, title, chart_type, x_col, y_col in files_and_visuals:\n",
    "    path = f\"C:/Users/Ismail/Desktop/Projects for GitHup/Sql/Online Food Delivery Dataset/outputs/queries_results/{filename}\"\n",
    "    df = pd.read_csv(path)\n",
    "    plt.figure(figsize=(12,6))\n",
    "    \n",
    "    if chart_type == \"bar\":\n",
    "        df.head(10).plot(x=x_col, y=y_col, kind='bar', legend=False, color='skyblue')\n",
    "    elif chart_type == \"line\":\n",
    "        df.plot(x=x_col, y=y_col, kind='line', marker='o', legend=False, color='orange')\n",
    "    \n",
    "    plt.title(title, fontsize=14)\n",
    "    plt.xlabel(x_col)\n",
    "    plt.ylabel(y_col)\n",
    "    plt.xticks(rotation=45)\n",
    "    plt.tight_layout()\n",
    "    plt.savefig(f\"C:/Users/Ismail/Desktop/Projects for GitHup/Sql/Online Food Delivery Dataset/outputs/visuals/{filename.replace('.csv','.png')}\")\n",
    "    plt.close()\n"
   ]
  },
  {
   "cell_type": "code",
   "execution_count": 28,
   "id": "ef2a6a77-63db-451e-b4eb-cc08fa04ec8e",
   "metadata": {},
   "outputs": [],
   "source": [
    "# Sales vs Profit per Category (Grouped Bar Chart)\n",
    "s_vs_p = pd.read_csv(\"C:/Users/Ismail/Desktop/Projects for GitHup/Sql/Online Food Delivery Dataset/outputs/queries_results/sales_vs_profit_by_category.csv\")\n",
    "s_vs_p.plot(x=\"Category\", y=[\"Total_Sales\",\"Total_Profit\"], kind=\"bar\", figsize=(10,6))\n",
    "plt.title(\"Sales vs Profit per Category\")\n",
    "plt.ylabel(\"Value\")\n",
    "plt.xticks(rotation=45)\n",
    "plt.tight_layout()\n",
    "plt.savefig(\"C:/Users/Ismail/Desktop/Projects for GitHup/Sql/Online Food Delivery Dataset/outputs/visuals/sales_vs_profit_by_category.png\")\n",
    "plt.close()"
   ]
  },
  {
   "cell_type": "code",
   "execution_count": 30,
   "id": "c37c91f4-17a0-4eb0-9747-ac0d44c72f4c",
   "metadata": {},
   "outputs": [],
   "source": [
    "# Revenue Contribution % per State (Pie Chart)\n",
    "df2 = pd.read_csv(\"C:/Users/Ismail/Desktop/Projects for GitHup/Sql/Online Food Delivery Dataset/outputs/queries_results/revenue_percentage_by_state.csv\")\n",
    "plt.figure(figsize=(8,8))\n",
    "plt.pie(df2[\"Revenue_Percent\"], labels=df2[\"State\"], autopct='%1.1f%%', startangle=140)\n",
    "plt.title(\"Revenue Contribution % by State\")\n",
    "plt.tight_layout()\n",
    "plt.savefig(\"C:/Users/Ismail/Desktop/Projects for GitHup/Sql/Online Food Delivery Dataset/outputs/visuals/revenue_percentage_by_state.png\")\n",
    "plt.close()"
   ]
  },
  {
   "cell_type": "code",
   "execution_count": 32,
   "id": "38454f7f-0323-4fde-bfd4-0f8d007afb93",
   "metadata": {},
   "outputs": [],
   "source": [
    "# Correlation Plot (Profit vs Quantity)\n",
    "import seaborn as sns\n",
    "df3 = pd.read_csv(\"C:/Users/Ismail/Desktop/Projects for GitHup/Sql/Online Food Delivery Dataset/outputs/queries_results/profit_vs_quantity.csv\")\n",
    "plt.figure(figsize=(10,6))\n",
    "sns.scatterplot(data=df3, x=\"Total_Quantity\", y=\"Total_Profit\", hue=\"Sub_Category\", s=100)\n",
    "plt.title(\"Profit vs Quantity (by Sub-Category)\")\n",
    "plt.xlabel(\"Total Quantity\")\n",
    "plt.ylabel(\"Total Profit\")\n",
    "plt.tight_layout()\n",
    "plt.savefig(\"C:/Users/Ismail/Desktop/Projects for GitHup/Sql/Online Food Delivery Dataset/outputs/visuals/profit_vs_quantity.png\")\n",
    "plt.close()"
   ]
  },
  {
   "cell_type": "code",
   "execution_count": null,
   "id": "d1a71ecd-fdef-48a0-b5e1-b0b4980ed6dc",
   "metadata": {},
   "outputs": [],
   "source": []
  }
 ],
 "metadata": {
  "kernelspec": {
   "display_name": "Python 3 (ipykernel)",
   "language": "python",
   "name": "python3"
  },
  "language_info": {
   "codemirror_mode": {
    "name": "ipython",
    "version": 3
   },
   "file_extension": ".py",
   "mimetype": "text/x-python",
   "name": "python",
   "nbconvert_exporter": "python",
   "pygments_lexer": "ipython3",
   "version": "3.12.7"
  }
 },
 "nbformat": 4,
 "nbformat_minor": 5
}
